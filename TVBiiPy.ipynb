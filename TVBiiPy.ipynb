{
 "cells": [
  {
   "cell_type": "code",
   "execution_count": 13,
   "metadata": {
    "collapsed": false
   },
   "outputs": [
    {
     "name": "stderr",
     "output_type": "stream",
     "text": [
      "/Users/Joseph/anaconda2/lib/python2.7/site-packages/IPython/extensions/cythonmagic.py:21: UserWarning: The Cython magic has been moved to the Cython package\n",
      "  warnings.warn(\"\"\"The Cython magic has been moved to the Cython package\"\"\")\n"
     ]
    }
   ],
   "source": [
    "#%load_ext Cython"
   ]
  },
  {
   "cell_type": "code",
   "execution_count": 7,
   "metadata": {
    "collapsed": true
   },
   "outputs": [],
   "source": [
    "import pandas as pd\n",
    "import numpy as np\n",
    "import scipy.io as scio\n",
    "import seaborn as sns"
   ]
  },
  {
   "cell_type": "code",
   "execution_count": null,
   "metadata": {
    "collapsed": true
   },
   "outputs": [],
   "source": [
    "def BOLD(T,r):\n",
    "    dt  = 0.001; \n",
    "    t0  = np.arange(0,T+dt,dt)\n",
    "    n_t = t0.shape[0]\n",
    "    t_min = 20;\n",
    "    n_min = int(np.around(t_min/dt))-1\n",
    "    r_max = np.max(r);\n",
    "\n",
    "    #BOLD model parameters\n",
    "    taus   = 0.65; # 0.8;    % time unit (s)\n",
    "    tauf   = 0.41; # 0.4;    % time unit (s)\n",
    "    tauo   = 0.98; # 1;      % mean transit time (s)\n",
    "    alpha  = 0.32; # 0.2;    % a stiffness exponent\n",
    "    itaus  = 1/taus;\n",
    "    itauf  = 1/tauf;\n",
    "    itauo  = 1/tauo;\n",
    "    ialpha = 1/alpha;\n",
    "    Eo     = 0.34; # 0.8;    % resting oxygen extraction fraction\n",
    "    vo     = 0.02;\n",
    "    k1     = 7*Eo; \n",
    "    k2     = 2; \n",
    "    k3     = 2*Eo-0.2;\n",
    "\n",
    "    # Initial conditions\n",
    "    x0 = np.array([0,1,1,1])\n",
    "    t = t0;\n",
    "    x = np.zeros([n_t,4])\n",
    "    x[0,:] = x0;\n",
    "\n",
    "    for n in np.arange(0,n_t-2):\n",
    "                #print n\n",
    "                #print(n)\n",
    "                #print(r.shape)\n",
    "                r[n-1]\n",
    "                x[n+1,0] = x[n,0] + dt*( r[n]-itaus*x[n,0]-itauf*(x[n,1]-1) );\n",
    "                x[n+1,1] = x[n,1] + dt*x[n,0];\n",
    "                x[n+1,2] = x[n,2] + dt*itauo*(x[n,1]-x[n,2]**ialpha);\n",
    "                x[n+1,3] = x[n,3] + dt*itauo*(x[n,1]*(1-(1-Eo)**(1/x[n,1]))/Eo - (x[n,2]**ialpha)*x[n,3]/x[n,2]);\n",
    "                \n",
    "    t  = t[n_min:];\n",
    "    s  = x[n_min:,0];\n",
    "    fi = x[n_min:,1];\n",
    "    v  = x[n_min:,2];\n",
    "    q  = x[n_min:,3];\n",
    "    b  = 100/Eo*vo*( k1*(1-q) + k2*(1-q/v) + k3*(1-v) );\n",
    "    b = b[~np.isnan(b)]\n",
    "    if np.argwhere(np.isnan(b)).shape[0]!=0:\n",
    "        print 'nan detected!!! Index: ', np.argwhere(np.isnan(b))\n",
    "    \n",
    "    return b #100/Eo*vo*( k1*(1-q) + k2*(1-q/v) + k3*(1-v) );\n",
    "\n"
   ]
  },
  {
   "cell_type": "code",
   "execution_count": null,
   "metadata": {
    "collapsed": true
   },
   "outputs": [],
   "source": [
    "def phie(x):\n",
    "    g=0.16;\n",
    "    I=125.;\n",
    "    c=310.;\n",
    "    y=c*x-I;\n",
    "    #y./(1-exp(-g*y));\n",
    "    return y/(1-np.exp(-g*y))\n",
    "\n",
    "def phii(x):\n",
    "    g=0.087;\n",
    "    I=177.;\n",
    "    c=615.; \n",
    "    y=c*x-I;\n",
    "    return y/(1-np.exp(-g*y));"
   ]
  },
  {
   "cell_type": "code",
   "execution_count": 12,
   "metadata": {
    "collapsed": false
   },
   "outputs": [
    {
     "name": "stdout",
     "output_type": "stream",
     "text": [
      "\n"
     ]
    }
   ],
   "source": [
    "#%%cython\n",
    "\n",
    "def TVBPy(C, wee, tmax, sigma, JN, gamma):\n",
    "    \n",
    "    # function inputs:\n",
    "    # - structural connectivity C\n",
    "    # - coupling factor wee\n",
    "    # - simulation length tmax in miliseconds\n",
    "    # - excitatory synaptic coupling\n",
    "    # - white matter speed\n",
    "    #\n",
    "    # runs TVBii simulation (no FIC)\n",
    "    # returns raw simulated timecourses as a numpy array\n",
    "\n",
    "    #------------------------------------------------------------------    \n",
    "    # SET PARAMETERS\n",
    "    #------------------------------------------------------------------\n",
    "    \n",
    "    \n",
    "    \n",
    "    # define types of variables to speed up cython\n",
    "    #cdef int Nnew, ddt, ds, dt, tspan, taon, taog, J, I0, Jexte, Jexti, w, neuro_act, sn, sg, nn, j, T, B, BOLD, BOLD_act\n",
    "    \n",
    "    Nnew = C.shape[1]\n",
    "    dtt = 1e-3 # Sampling rate of simulated neuronal activity (seconds)\n",
    "    ds = 100 # BOLD downsampling rate\n",
    "    dt = 0.1\n",
    "    #tmax = 30000 # simulation length in ms\n",
    "    tspan = np.arange(0,tmax,dt)\n",
    "    taon=100;\n",
    "    taog=10;\n",
    "    #gamma=0.641;\n",
    "    #sigma=0.001;\n",
    "    #JN=0.15;\n",
    "    #J=ones(Nnew,1);\n",
    "    J = np.ones(Nnew) # or np.ones([Nnew,1])\n",
    "    I0=0.382;\n",
    "    Jexte=1.;\n",
    "    Jexti=0.7;\n",
    "    w=1.4;\n",
    "    #wee=1.0; # is this G? coupling factor?\n",
    "    neuro_act = np.zeros([tmax,Nnew])\n",
    "    #print(neuro_act.shape)\n",
    "    #sn=0.001*ones(Nnew,1);\n",
    "    sn = 0.001*np.ones(Nnew) # or np.ones([Nnew,1]) ?\n",
    "    #sg=0.001*ones(Nnew,1);\n",
    "    sg = 0.001*np.ones(Nnew) # or np.ones([Nnew,1]) ?\n",
    "    nn=0;\n",
    "    j=0;\n",
    "    \n",
    "    #------------------------------------------------------------------    \n",
    "    # RUN SIMULATION\n",
    "    #------------------------------------------------------------------\n",
    "    print 'Caluclating steps...'\n",
    "    for i in range(0,tspan.shape[0]):\n",
    "        #clear_output(wait=True)\n",
    "        #print i \n",
    "        #print 'Coupling factor wee:', wee\n",
    "        xn=I0*Jexte+w*JN*sn+wee*JN*np.dot(C,sn)-J*sg # Deco2014 - equation 5\n",
    "        xg=I0*Jexti+JN*sn-sg # Deco2014 - equation 6\n",
    "        rn=phie(xn) # Deco2014 - equation 7: y=c*x-I; return y/(1-np.exp(-g*y))\n",
    "        rg=phii(xg) # Deco2014 - equation 8: y=c*x-I; return y/(1-np.exp(-g*y));\n",
    "        sn=sn+dt*(-sn/taon+(1-sn)*gamma*rn/1000)+(dt)*sigma*np.random.randn(Nnew) # Deco2014 - equation 9\n",
    "        sn[sn>1] = 1\n",
    "        sn[sn<0] = 0\n",
    "        sg=sg+dt*(-sg/taog+rg/1000)+(dt)*sigma*np.random.randn(Nnew) # Deco2014 - equation 10\n",
    "        sg[sg>1] = 1\n",
    "        sg[sg<0] = 0\n",
    "        j = j + 1\n",
    "        if j==10:\n",
    "            neuro_act[nn,:] = sn\n",
    "            nn = nn + 1\n",
    "            j = 0\n",
    "    \n",
    "    nn = nn - 1\n",
    "    T = (nn+1)*dtt # Total time in seconds\n",
    "    B = BOLD(T,neuro_act[0:nn,0])\n",
    "    BOLD_act = np.zeros([B.shape[0], Nnew])\n",
    "    BOLD_act[:,0] = B\n",
    "\n",
    "    for nnew in range(1,Nnew):\n",
    "        B = BOLD(T, neuro_act[0:nn,nnew])\n",
    "        BOLD_act[:,nnew]=B\n",
    "\n",
    "    i = np.arange(500,BOLD_act.shape[0],ds)\n",
    "    bds = BOLD_act[i,:]\n",
    "    return {'bds':bds, 'neuro_act':neuro_act} \n"
   ]
  },
  {
   "cell_type": "code",
   "execution_count": 9,
   "metadata": {
    "collapsed": true
   },
   "outputs": [],
   "source": [
    "#emp_data = scio.loadmat('/Users/Joseph/Desktop/TVBii/Test_TVBii_in_Python/test_SC.mat')\n",
    "#emp_data\n",
    "#my_id = 'test_SC'\n",
    "#C = emp_data['sc_cap']"
   ]
  },
  {
   "cell_type": "code",
   "execution_count": 10,
   "metadata": {
    "collapsed": false
   },
   "outputs": [
    {
     "name": "stderr",
     "output_type": "stream",
     "text": [
      "/Users/Joseph/anaconda2/lib/python2.7/site-packages/ipykernel/__main__.py:45: RuntimeWarning: invalid value encountered in divide\n"
     ]
    }
   ],
   "source": [
    "#a = TVBPy(C,1.0)\n",
    "#%matplotlib inline\n",
    "#sns.tsplot(a.T, err_style=\"unit_traces\")"
   ]
  },
  {
   "cell_type": "code",
   "execution_count": 16,
   "metadata": {
    "collapsed": false
   },
   "outputs": [
    {
     "data": {
      "text/plain": [
       "<matplotlib.axes._subplots.AxesSubplot at 0x10f813590>"
      ]
     },
     "execution_count": 16,
     "metadata": {},
     "output_type": "execute_result"
    },
    {
     "data": {
      "image/png": "[encoded data removed]",
      "text/plain": [
       "<matplotlib.figure.Figure at 0x10f800cd0>"
      ]
     },
     "metadata": {},
     "output_type": "display_data"
    }
   ],
   "source": [
    "#my_mat = np.corrcoef(a.T) # Each row of `x` represents a variable, each column a single observation\n",
    "#r = my_mat.flatten()\n",
    "#sns.distplot(r)"
   ]
  },
  {
   "cell_type": "code",
   "execution_count": null,
   "metadata": {
    "collapsed": true
   },
   "outputs": [],
   "source": []
  }
 ],
 "metadata": {
  "kernelspec": {
   "display_name": "Python 2",
   "language": "python",
   "name": "python2"
  },
  "language_info": {
   "codemirror_mode": {
    "name": "ipython",
    "version": 2
   },
   "file_extension": ".py",
   "mimetype": "text/x-python",
   "name": "python",
   "nbconvert_exporter": "python",
   "pygments_lexer": "ipython2",
   "version": "2.7.13"
  }
 },
 "nbformat": 4,
 "nbformat_minor": 2
}
